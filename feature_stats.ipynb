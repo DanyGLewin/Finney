{
 "cells": [
  {
   "cell_type": "code",
   "id": "initial_id",
   "metadata": {
    "collapsed": true,
    "ExecuteTime": {
     "end_time": "2025-08-26T15:31:13.923410Z",
     "start_time": "2025-08-26T15:31:11.412831Z"
    }
   },
   "source": [
    "import pandas as pd\n",
    "\n",
    "df = pd.read_csv(\n",
    "    \"/Users/danylewin/thingies/university/CS Workshop/Finney/data/PassFInder_Password_Dataset/password_test.csv\",\n",
    "    header=None,\n",
    "    names=[\"text\", \"label\"],\n",
    ")\n",
    "df.sample(20)"
   ],
   "outputs": [
    {
     "data": {
      "text/plain": [
       "                        text  label\n",
       "6905830    showProgressMarks      0\n",
       "4743188             oumhani2      1\n",
       "520199              glo20tpp      1\n",
       "321259                jbjada      1\n",
       "1592378           flavuca07#      1\n",
       "57388                wen1969      1\n",
       "5897676             'abc::a'      0\n",
       "5841043              cain01$      1\n",
       "3893345      183071504505514      1\n",
       "7569067          Palette=3\\n      0\n",
       "1331745              siaokia      1\n",
       "2474071             jmeplv14      1\n",
       "6733137        cmt,omitempty      0\n",
       "9898866        9''z0[;${'[:-      2\n",
       "704634       196936338452330      1\n",
       "7380239           homodoxian      0\n",
       "6526020  20170913143004_Init      0\n",
       "1453527              0258996      1\n",
       "2341078             brinkelz      1\n",
       "1220927             nysp3023      1"
      ],
      "text/html": [
       "<div>\n",
       "<style scoped>\n",
       "    .dataframe tbody tr th:only-of-type {\n",
       "        vertical-align: middle;\n",
       "    }\n",
       "\n",
       "    .dataframe tbody tr th {\n",
       "        vertical-align: top;\n",
       "    }\n",
       "\n",
       "    .dataframe thead th {\n",
       "        text-align: right;\n",
       "    }\n",
       "</style>\n",
       "<table border=\"1\" class=\"dataframe\">\n",
       "  <thead>\n",
       "    <tr style=\"text-align: right;\">\n",
       "      <th></th>\n",
       "      <th>text</th>\n",
       "      <th>label</th>\n",
       "    </tr>\n",
       "  </thead>\n",
       "  <tbody>\n",
       "    <tr>\n",
       "      <th>6905830</th>\n",
       "      <td>showProgressMarks</td>\n",
       "      <td>0</td>\n",
       "    </tr>\n",
       "    <tr>\n",
       "      <th>4743188</th>\n",
       "      <td>oumhani2</td>\n",
       "      <td>1</td>\n",
       "    </tr>\n",
       "    <tr>\n",
       "      <th>520199</th>\n",
       "      <td>glo20tpp</td>\n",
       "      <td>1</td>\n",
       "    </tr>\n",
       "    <tr>\n",
       "      <th>321259</th>\n",
       "      <td>jbjada</td>\n",
       "      <td>1</td>\n",
       "    </tr>\n",
       "    <tr>\n",
       "      <th>1592378</th>\n",
       "      <td>flavuca07#</td>\n",
       "      <td>1</td>\n",
       "    </tr>\n",
       "    <tr>\n",
       "      <th>57388</th>\n",
       "      <td>wen1969</td>\n",
       "      <td>1</td>\n",
       "    </tr>\n",
       "    <tr>\n",
       "      <th>5897676</th>\n",
       "      <td>'abc::a'</td>\n",
       "      <td>0</td>\n",
       "    </tr>\n",
       "    <tr>\n",
       "      <th>5841043</th>\n",
       "      <td>cain01$</td>\n",
       "      <td>1</td>\n",
       "    </tr>\n",
       "    <tr>\n",
       "      <th>3893345</th>\n",
       "      <td>183071504505514</td>\n",
       "      <td>1</td>\n",
       "    </tr>\n",
       "    <tr>\n",
       "      <th>7569067</th>\n",
       "      <td>Palette=3\\n</td>\n",
       "      <td>0</td>\n",
       "    </tr>\n",
       "    <tr>\n",
       "      <th>1331745</th>\n",
       "      <td>siaokia</td>\n",
       "      <td>1</td>\n",
       "    </tr>\n",
       "    <tr>\n",
       "      <th>2474071</th>\n",
       "      <td>jmeplv14</td>\n",
       "      <td>1</td>\n",
       "    </tr>\n",
       "    <tr>\n",
       "      <th>6733137</th>\n",
       "      <td>cmt,omitempty</td>\n",
       "      <td>0</td>\n",
       "    </tr>\n",
       "    <tr>\n",
       "      <th>9898866</th>\n",
       "      <td>9''z0[;${'[:-</td>\n",
       "      <td>2</td>\n",
       "    </tr>\n",
       "    <tr>\n",
       "      <th>704634</th>\n",
       "      <td>196936338452330</td>\n",
       "      <td>1</td>\n",
       "    </tr>\n",
       "    <tr>\n",
       "      <th>7380239</th>\n",
       "      <td>homodoxian</td>\n",
       "      <td>0</td>\n",
       "    </tr>\n",
       "    <tr>\n",
       "      <th>6526020</th>\n",
       "      <td>20170913143004_Init</td>\n",
       "      <td>0</td>\n",
       "    </tr>\n",
       "    <tr>\n",
       "      <th>1453527</th>\n",
       "      <td>0258996</td>\n",
       "      <td>1</td>\n",
       "    </tr>\n",
       "    <tr>\n",
       "      <th>2341078</th>\n",
       "      <td>brinkelz</td>\n",
       "      <td>1</td>\n",
       "    </tr>\n",
       "    <tr>\n",
       "      <th>1220927</th>\n",
       "      <td>nysp3023</td>\n",
       "      <td>1</td>\n",
       "    </tr>\n",
       "  </tbody>\n",
       "</table>\n",
       "</div>"
      ]
     },
     "execution_count": 1,
     "metadata": {},
     "output_type": "execute_result"
    }
   ],
   "execution_count": 1
  },
  {
   "metadata": {
    "ExecuteTime": {
     "end_time": "2025-08-26T15:31:13.944012Z",
     "start_time": "2025-08-26T15:31:13.941822Z"
    }
   },
   "cell_type": "code",
   "source": [
    "def display(data):\n",
    "    # Exclude 'text' and 'label' columns\n",
    "    cols_to_sum = data.columns.difference([\"text\", \"label\"])\n",
    "\n",
    "    # Group by label and sum the rest\n",
    "    result = data.groupby(\"label\")[cols_to_sum].sum()\n",
    "\n",
    "    print(result)"
   ],
   "id": "e580766956f632a8",
   "outputs": [],
   "execution_count": 2
  },
  {
   "metadata": {
    "ExecuteTime": {
     "end_time": "2025-08-26T15:31:22.754436Z",
     "start_time": "2025-08-26T15:31:13.968277Z"
    }
   },
   "cell_type": "code",
   "source": [
    "df[\"special\"] = df[\"text\"].str.contains(\"[\\!\\@\\#\\$\\^\\&\\*\\(\\)_\\+\\[\\]'\\\"\\;\\/\\,\\>\\<\\\\\\|\\{\\}\\?]\", regex=True)\n",
    "df[\"special_end\"] = df[\"text\"].str.contains(\"[\\!\\@\\#\\$\\^\\&\\*\\(\\)_\\+\\[\\]'\\\"\\;\\/\\,\\>\\<\\\\\\|\\{\\}\\?]$\", regex=True)\n",
    "df[\"upper_start\"] = df[\"text\"].str.contains(\"[A-Z]$\", regex=True)\n",
    "df[\"space\"] = df[\"text\"].str.contains(\" \")\n",
    "df.sample(10)\n",
    "# df.groupby(\"label\")[[\"special\", \"special_end\", \"upper_start\", \"space\"]].sum()\n",
    "display(df)"
   ],
   "id": "3b9ef202f0180591",
   "outputs": [
    {
     "name": "stderr",
     "output_type": "stream",
     "text": [
      "<>:1: SyntaxWarning: invalid escape sequence '\\!'\n",
      "<>:2: SyntaxWarning: invalid escape sequence '\\!'\n",
      "<>:1: SyntaxWarning: invalid escape sequence '\\!'\n",
      "<>:2: SyntaxWarning: invalid escape sequence '\\!'\n",
      "/var/folders/h7/bps63nln4tzbmcz9pk0919kc0000gn/T/ipykernel_89138/3035434460.py:1: SyntaxWarning: invalid escape sequence '\\!'\n",
      "  df[\"special\"] = df[\"text\"].str.contains(\"[\\!\\@\\#\\$\\^\\&\\*\\(\\)_\\+\\[\\]'\\\"\\;\\/\\,\\>\\<\\\\\\|\\{\\}\\?]\", regex=True)\n",
      "/var/folders/h7/bps63nln4tzbmcz9pk0919kc0000gn/T/ipykernel_89138/3035434460.py:2: SyntaxWarning: invalid escape sequence '\\!'\n",
      "  df[\"special_end\"] = df[\"text\"].str.contains(\"[\\!\\@\\#\\$\\^\\&\\*\\(\\)_\\+\\[\\]'\\\"\\;\\/\\,\\>\\<\\\\\\|\\{\\}\\?]$\", regex=True)\n"
     ]
    },
    {
     "name": "stdout",
     "output_type": "stream",
     "text": [
      "       space  special special_end upper_start\n",
      "label                                        \n",
      "0          0  1127466      320665      134608\n",
      "1      14426   304927      119342      109517\n",
      "2          0  2441387      665739      690666\n"
     ]
    }
   ],
   "execution_count": 3
  },
  {
   "metadata": {
    "ExecuteTime": {
     "end_time": "2025-08-26T15:31:29.775217Z",
     "start_time": "2025-08-26T15:31:22.815352Z"
    }
   },
   "cell_type": "code",
   "source": [
    "df[\"all_hexa\"] = df[\"text\"].str.contains(\"[0-9A-Fa-f]$\", regex=True)\n",
    "df[\"byte\"] = df[\"text\"].str.contains(r\"\\\\{1,2}\\w{3,4}(?!\\w)\", regex=True)\n",
    "# df[\"new_line\"] = df[\"text\"].str.contains(r\"\\n\",regex=True)\n",
    "display(df)"
   ],
   "id": "6d783946a9a2b85c",
   "outputs": [
    {
     "name": "stdout",
     "output_type": "stream",
     "text": [
      "      all_hexa   byte  space  special special_end upper_start\n",
      "label                                                        \n",
      "0       707662  53854      0  1127466      320665      134608\n",
      "1      4440657     49  14426   304927      119342      109517\n",
      "2       585061  72508      0  2441387      665739      690666\n"
     ]
    }
   ],
   "execution_count": 4
  },
  {
   "metadata": {
    "ExecuteTime": {
     "end_time": "2025-08-26T15:31:39.498218Z",
     "start_time": "2025-08-26T15:31:29.843769Z"
    }
   },
   "cell_type": "code",
   "source": [
    "df[\"path_sub\"] = df[\"text\"].str.contains(r\"(^/\\./)|(^\\./)\", regex=True)\n",
    "df[\"path_relative\"] = df[\"text\"].str.contains(r\"(^/\\.\\./)|(^\\.\\./)\", regex=True)\n",
    "display(df)\n"
   ],
   "id": "92be6feddcaddf1c",
   "outputs": [
    {
     "name": "stderr",
     "output_type": "stream",
     "text": [
      "/var/folders/h7/bps63nln4tzbmcz9pk0919kc0000gn/T/ipykernel_89138/3907787813.py:1: UserWarning: This pattern is interpreted as a regular expression, and has match groups. To actually get the groups, use str.extract.\n",
      "  df[\"path_sub\"] = df[\"text\"].str.contains(r\"(^/\\./)|(^\\./)\", regex=True)\n",
      "/var/folders/h7/bps63nln4tzbmcz9pk0919kc0000gn/T/ipykernel_89138/3907787813.py:2: UserWarning: This pattern is interpreted as a regular expression, and has match groups. To actually get the groups, use str.extract.\n",
      "  df[\"path_relative\"] = df[\"text\"].str.contains(r\"(^/\\.\\./)|(^\\.\\./)\", regex=True)\n"
     ]
    },
    {
     "name": "stdout",
     "output_type": "stream",
     "text": [
      "      all_hexa   byte path_relative path_sub  space  special special_end  \\\n",
      "label                                                                      \n",
      "0       707662  53854         13334    28161      0  1127466      320665   \n",
      "1      4440657     49             2       21  14426   304927      119342   \n",
      "2       585061  72508             6      256      0  2441387      665739   \n",
      "\n",
      "      upper_start  \n",
      "label              \n",
      "0          134608  \n",
      "1          109517  \n",
      "2          690666  \n"
     ]
    }
   ],
   "execution_count": 5
  },
  {
   "metadata": {
    "ExecuteTime": {
     "end_time": "2025-08-26T15:31:47.977014Z",
     "start_time": "2025-08-26T15:31:39.504131Z"
    }
   },
   "cell_type": "code",
   "source": [
    "df[\"letter_number_symbol\"] = df[\"text\"].str.contains(r\"^[A-Za-z]+[0-9]+\\W?$\", regex=True)\n",
    "df[\"letter_symbol_number\"] = df[\"text\"].str.contains(r\"^[A-Za-z]+\\W?[0-9]+$\", regex=True)\n",
    "display(df)"
   ],
   "id": "190b648a59e8e2b2",
   "outputs": [
    {
     "name": "stdout",
     "output_type": "stream",
     "text": [
      "      all_hexa   byte letter_number_symbol letter_symbol_number path_relative  \\\n",
      "label                                                                           \n",
      "0       707662  53854                19725                23600         13334   \n",
      "1      4440657     49              2368454              2395229             2   \n",
      "2       585061  72508                 2402                 2499             6   \n",
      "\n",
      "      path_sub  space  special special_end upper_start  \n",
      "label                                                   \n",
      "0        28161      0  1127466      320665      134608  \n",
      "1           21  14426   304927      119342      109517  \n",
      "2          256      0  2441387      665739      690666  \n"
     ]
    }
   ],
   "execution_count": 6
  },
  {
   "metadata": {
    "ExecuteTime": {
     "end_time": "2025-08-26T15:31:57.126871Z",
     "start_time": "2025-08-26T15:31:47.982865Z"
    }
   },
   "cell_type": "code",
   "source": [
    "df[\"year\"] = df[\"text\"].str.contains(r\"\\b(19[0-9]{2}|20[0-9]{2}|2100)\\b\", regex=True)\n",
    "df[\"date\"] = df[\"text\"].str.contains(r\"\\d{4}-\\d{2}-\\d{2}\", regex=True)\n",
    "display(df)"
   ],
   "id": "2824a34138ef7954",
   "outputs": [
    {
     "name": "stderr",
     "output_type": "stream",
     "text": [
      "/var/folders/h7/bps63nln4tzbmcz9pk0919kc0000gn/T/ipykernel_89138/1250424164.py:1: UserWarning: This pattern is interpreted as a regular expression, and has match groups. To actually get the groups, use str.extract.\n",
      "  df[\"year\"] = df[\"text\"].str.contains(r\"\\b(19[0-9]{2}|20[0-9]{2}|2100)\\b\", regex=True)\n"
     ]
    },
    {
     "name": "stdout",
     "output_type": "stream",
     "text": [
      "      all_hexa   byte  date letter_number_symbol letter_symbol_number  \\\n",
      "label                                                                   \n",
      "0       707662  53854  3442                19725                23600   \n",
      "1      4440657     49    15              2368454              2395229   \n",
      "2       585061  72508     0                 2402                 2499   \n",
      "\n",
      "      path_relative path_sub  space  special special_end upper_start   year  \n",
      "label                                                                        \n",
      "0             13334    28161      0  1127466      320665      134608   6624  \n",
      "1                 2       21  14426   304927      119342      109517  14326  \n",
      "2                 6      256      0  2441387      665739      690666     14  \n"
     ]
    }
   ],
   "execution_count": 7
  },
  {
   "metadata": {
    "ExecuteTime": {
     "end_time": "2025-08-26T15:32:22.382898Z",
     "start_time": "2025-08-26T15:31:57.133536Z"
    }
   },
   "cell_type": "code",
   "source": [
    "df[\"xml\"] = df[\"text\"].str.contains(r\"<.{1,3}>\", regex=True)\n",
    "df[\"period\"] = df[\"text\"].str.contains(\".\")\n",
    "df[\"double_colon\"] = df[\"text\"].str.contains(\"::\")\n",
    "df[\"question\"] = df[\"text\"].str.contains(\"\\?\")\n",
    "df[\"percent\"] = df[\"text\"].str.contains(\"%\")\n",
    "df[\"arrow\"] = df[\"text\"].str.contains(\"->\")\n",
    "df[\"dunder\"] = df[\"text\"].str.contains(\"__\")\n",
    "df[\"double_equal\"] = df[\"text\"].str.contains(\"==\")\n",
    "df[\"triple_equal\"] = df[\"text\"].str.contains(\"===\")\n",
    "df[\"double_slash\"] = df[\"text\"].str.contains(\"//\")\n",
    "df[\"backslash\"] = df[\"text\"].str.contains(\"\\\\\\\\\")\n",
    "df[\"double_backslash\"] = df[\"text\"].str.contains(\"\\\\\\\\\\\\\\\\\")\n",
    "df[\"newline\"] = df[\"text\"].str.contains(\"\\n\")\n",
    "display(df)"
   ],
   "id": "620b433123a46c97",
   "outputs": [
    {
     "name": "stderr",
     "output_type": "stream",
     "text": [
      "<>:4: SyntaxWarning: invalid escape sequence '\\?'\n",
      "<>:4: SyntaxWarning: invalid escape sequence '\\?'\n",
      "/var/folders/h7/bps63nln4tzbmcz9pk0919kc0000gn/T/ipykernel_89138/3145307859.py:4: SyntaxWarning: invalid escape sequence '\\?'\n",
      "  df[\"question\"] = df[\"text\"].str.contains(\"\\?\")\n"
     ]
    },
    {
     "name": "stdout",
     "output_type": "stream",
     "text": [
      "      all_hexa arrow backslash   byte  date double_backslash double_colon  \\\n",
      "label                                                                       \n",
      "0       707662  6792    215146  53854  3442            16903        17839   \n",
      "1      4440657    11       561     49    15               45           47   \n",
      "2       585061  4800    432070  72508     0             4739         4709   \n",
      "\n",
      "      double_equal double_slash dunder  ... percent   period question  space  \\\n",
      "label                                   ...                                    \n",
      "0             6725        11390  10859  ...   64045  2047482    20257      0   \n",
      "1              196          646    417  ...    7234  5884315     6159  14426   \n",
      "2             4746         4809   4809  ...  431637  2500000   432037      0   \n",
      "\n",
      "       special special_end triple_equal upper_start    xml   year  \n",
      "label                                                              \n",
      "0      1127466      320665         3077      134608  11795   6624  \n",
      "1       304927      119342           30      109517     23  14326  \n",
      "2      2441387      665739           47      690666  12519     14  \n",
      "\n",
      "[3 rows x 25 columns]\n"
     ]
    }
   ],
   "execution_count": 8
  },
  {
   "metadata": {
    "ExecuteTime": {
     "end_time": "2025-08-26T15:32:51.313544Z",
     "start_time": "2025-08-26T15:32:24.301515Z"
    }
   },
   "cell_type": "code",
   "source": [
    "df[\"balanced_parentheses\"] = (\n",
    "        (df[\"text\"].str.count(r\"\\(\") == df[\"text\"].str.count(r\"\\)\")) &\n",
    "        (df[\"text\"].str.count(r\"\\(\") > 0)\n",
    ")\n",
    "df[\"balanced_parentheses_square\"] = (\n",
    "        (df[\"text\"].str.count(r\"\\[\") == df[\"text\"].str.count(r\"\\]\")) &\n",
    "        (df[\"text\"].str.count(r\"\\[\") > 0)\n",
    ")\n",
    "df[\"balanced_parentheses_curl\"] = (\n",
    "        (df[\"text\"].str.count(r\"\\{\") == df[\"text\"].str.count(r\"\\}\")) &\n",
    "        (df[\"text\"].str.count(r\"\\{\") > 0)\n",
    ")\n",
    "display(df)"
   ],
   "id": "9551ac2e60f0a172",
   "outputs": [
    {
     "name": "stdout",
     "output_type": "stream",
     "text": [
      "      all_hexa arrow backslash  balanced_parentheses  \\\n",
      "label                                                  \n",
      "0       707662  6792    215146                109586   \n",
      "1      4440657    11       561                  1841   \n",
      "2       585061  4800    432070                 66058   \n",
      "\n",
      "       balanced_parentheses_curl  balanced_parentheses_square   byte  date  \\\n",
      "label                                                                        \n",
      "0                          64220                        45205  53854  3442   \n",
      "1                             96                          468     49    15   \n",
      "2                          65761                        65485  72508     0   \n",
      "\n",
      "      double_backslash double_colon  ... percent   period question  space  \\\n",
      "label                                ...                                    \n",
      "0                16903        17839  ...   64045  2047482    20257      0   \n",
      "1                   45           47  ...    7234  5884315     6159  14426   \n",
      "2                 4739         4709  ...  431637  2500000   432037      0   \n",
      "\n",
      "       special special_end triple_equal upper_start    xml   year  \n",
      "label                                                              \n",
      "0      1127466      320665         3077      134608  11795   6624  \n",
      "1       304927      119342           30      109517     23  14326  \n",
      "2      2441387      665739           47      690666  12519     14  \n",
      "\n",
      "[3 rows x 28 columns]\n"
     ]
    }
   ],
   "execution_count": 9
  },
  {
   "metadata": {
    "ExecuteTime": {
     "end_time": "2025-08-26T15:32:52.869110Z",
     "start_time": "2025-08-26T15:32:52.867584Z"
    }
   },
   "cell_type": "code",
   "source": "import re",
   "id": "8a9050bdcab4b418",
   "outputs": [],
   "execution_count": 10
  },
  {
   "metadata": {
    "ExecuteTime": {
     "end_time": "2025-08-26T15:33:13.390975Z",
     "start_time": "2025-08-26T15:32:54.410247Z"
    }
   },
   "cell_type": "code",
   "source": [
    "df[\"longest_upper\"] = df[\"text\"].apply(\n",
    "    lambda x: max((len(m) for m in re.findall(r\"[A-Z]+\", str(x))), default=0)\n",
    ")\n",
    "display(df)"
   ],
   "id": "1c890ed76125fd22",
   "outputs": [
    {
     "name": "stdout",
     "output_type": "stream",
     "text": [
      "      all_hexa arrow backslash  balanced_parentheses  \\\n",
      "label                                                  \n",
      "0       707662  6792    215146                109586   \n",
      "1      4440657    11       561                  1841   \n",
      "2       585061  4800    432070                 66058   \n",
      "\n",
      "       balanced_parentheses_curl  balanced_parentheses_square   byte  date  \\\n",
      "label                                                                        \n",
      "0                          64220                        45205  53854  3442   \n",
      "1                             96                          468     49    15   \n",
      "2                          65761                        65485  72508     0   \n",
      "\n",
      "      double_backslash double_colon  ... percent   period question  space  \\\n",
      "label                                ...                                    \n",
      "0                16903        17839  ...   64045  2047482    20257      0   \n",
      "1                   45           47  ...    7234  5884315     6159  14426   \n",
      "2                 4739         4709  ...  431637  2500000   432037      0   \n",
      "\n",
      "       special  special_end triple_equal upper_start    xml   year  \n",
      "label                                                               \n",
      "0      1127466       320665         3077      134608  11795   6624  \n",
      "1       304927       119342           30      109517     23  14326  \n",
      "2      2441387       665739           47      690666  12519     14  \n",
      "\n",
      "[3 rows x 29 columns]\n"
     ]
    }
   ],
   "execution_count": 11
  },
  {
   "metadata": {
    "ExecuteTime": {
     "end_time": "2025-08-26T15:33:55.661613Z",
     "start_time": "2025-08-26T15:33:14.858483Z"
    }
   },
   "cell_type": "code",
   "source": [
    "df[\"longest_vowels\"] = df[\"text\"].apply(\n",
    "    lambda x: max((len(m) for m in re.findall(r\"[aeiouAEIOU]+\", str(x))), default=0)\n",
    ")\n",
    "df[\"longest_cons\"] = df[\"text\"].apply(\n",
    "    lambda x: max((len(m) for m in re.findall(r\"[bcdfghjklmnpqrstvxzBCDFGHJKLMNPQRSTVXZ]+\", str(x))), default=0)\n",
    ")\n",
    "df[\"longest_hexa\"] = df[\"text\"].apply(\n",
    "    lambda x: max((len(m) for m in re.findall(r\"[A-Fa-f0-9]+\", str(x))), default=0)\n",
    ")\n",
    "display(df)"
   ],
   "id": "def5decb50202c44",
   "outputs": [
    {
     "name": "stdout",
     "output_type": "stream",
     "text": [
      "      all_hexa arrow backslash  balanced_parentheses  \\\n",
      "label                                                  \n",
      "0       707662  6792    215146                109586   \n",
      "1      4440657    11       561                  1841   \n",
      "2       585061  4800    432070                 66058   \n",
      "\n",
      "       balanced_parentheses_curl  balanced_parentheses_square   byte  date  \\\n",
      "label                                                                        \n",
      "0                          64220                        45205  53854  3442   \n",
      "1                             96                          468     49    15   \n",
      "2                          65761                        65485  72508     0   \n",
      "\n",
      "      double_backslash double_colon  ... percent   period question  space  \\\n",
      "label                                ...                                    \n",
      "0                16903        17839  ...   64045  2047482    20257      0   \n",
      "1                   45           47  ...    7234  5884315     6159  14426   \n",
      "2                 4739         4709  ...  431637  2500000   432037      0   \n",
      "\n",
      "       special  special_end  triple_equal  upper_start    xml   year  \n",
      "label                                                                 \n",
      "0      1127466       320665          3077       134608  11795   6624  \n",
      "1       304927       119342            30       109517     23  14326  \n",
      "2      2441387       665739            47       690666  12519     14  \n",
      "\n",
      "[3 rows x 32 columns]\n"
     ]
    }
   ],
   "execution_count": 12
  },
  {
   "metadata": {
    "ExecuteTime": {
     "end_time": "2025-08-26T15:34:42.677435Z",
     "start_time": "2025-08-26T15:33:56.981934Z"
    }
   },
   "cell_type": "code",
   "source": [
    "df[\"s_digit_fraction\"] = df[\"text\"].apply(\n",
    "    lambda x: sum(c.isdigit() for c in str(x)) / len(str(x))\n",
    ")\n",
    "df[\"s_vowel_fraction\"] = df[\"text\"].apply(\n",
    "    lambda x: sum(c in set(\"aeiouAEIOU\") for c in str(x)) / len(str(x))\n",
    ")\n",
    "df[\"s_nonword_fraction\"] = df[\"text\"].apply(\n",
    "    lambda x: len(re.findall(r\"\\W\", str(x))) / len(str(x))\n",
    ")\n",
    "display(df)"
   ],
   "id": "41ddae9eeb076ad1",
   "outputs": [
    {
     "name": "stdout",
     "output_type": "stream",
     "text": [
      "      all_hexa arrow backslash  balanced_parentheses  \\\n",
      "label                                                  \n",
      "0       707662  6792    215146                109586   \n",
      "1      4440657    11       561                  1841   \n",
      "2       585061  4800    432070                 66058   \n",
      "\n",
      "       balanced_parentheses_curl  balanced_parentheses_square   byte  date  \\\n",
      "label                                                                        \n",
      "0                          64220                        45205  53854  3442   \n",
      "1                             96                          468     49    15   \n",
      "2                          65761                        65485  72508     0   \n",
      "\n",
      "      double_backslash double_colon  ... s_digit_fraction s_nonword_fraction  \\\n",
      "label                                ...                                       \n",
      "0                16903        17839  ...     2.657635e+05      277196.972102   \n",
      "1                   45           47  ...     2.431694e+06       49871.576872   \n",
      "2                 4739         4709  ...     2.659875e+05      824677.297770   \n",
      "\n",
      "      s_vowel_fraction  space  special  special_end  triple_equal  \\\n",
      "label                                                               \n",
      "0         5.034402e+05      0  1127466       320665          3077   \n",
      "1         1.233452e+06  14426   304927       119342            30   \n",
      "2         2.659200e+05      0  2441387       665739            47   \n",
      "\n",
      "       upper_start    xml   year  \n",
      "label                             \n",
      "0           134608  11795   6624  \n",
      "1           109517     23  14326  \n",
      "2           690666  12519     14  \n",
      "\n",
      "[3 rows x 35 columns]\n"
     ]
    }
   ],
   "execution_count": 13
  },
  {
   "metadata": {
    "ExecuteTime": {
     "end_time": "2025-08-26T15:35:02.992362Z",
     "start_time": "2025-08-26T15:34:43.878178Z"
    }
   },
   "cell_type": "code",
   "source": [
    "df[\"word_length_mod_4\"] = df[\"text\"].apply(\n",
    "    lambda x: sum(1 for m in re.findall(r\"\\w+\", str(x)) if len(m) % 4 == 0)\n",
    ")\n",
    "display(df)"
   ],
   "id": "4df685c23cbd801f",
   "outputs": [
    {
     "name": "stdout",
     "output_type": "stream",
     "text": [
      "      all_hexa arrow backslash  balanced_parentheses  \\\n",
      "label                                                  \n",
      "0       707662  6792    215146                109586   \n",
      "1      4440657    11       561                  1841   \n",
      "2       585061  4800    432070                 66058   \n",
      "\n",
      "       balanced_parentheses_curl  balanced_parentheses_square   byte  date  \\\n",
      "label                                                                        \n",
      "0                          64220                        45205  53854  3442   \n",
      "1                             96                          468     49    15   \n",
      "2                          65761                        65485  72508     0   \n",
      "\n",
      "      double_backslash double_colon  ... s_nonword_fraction s_vowel_fraction  \\\n",
      "label                                ...                                       \n",
      "0                16903        17839  ...      277196.972102     5.034402e+05   \n",
      "1                   45           47  ...       49871.576872     1.233452e+06   \n",
      "2                 4739         4709  ...      824677.297770     2.659200e+05   \n",
      "\n",
      "       space  special special_end  triple_equal  upper_start  \\\n",
      "label                                                          \n",
      "0          0  1127466      320665          3077       134608   \n",
      "1      14426   304927      119342            30       109517   \n",
      "2          0  2441387      665739            47       690666   \n",
      "\n",
      "       word_length_mod_4    xml   year  \n",
      "label                                   \n",
      "0                 788028  11795   6624  \n",
      "1                1764496     23  14326  \n",
      "2                1239335  12519     14  \n",
      "\n",
      "[3 rows x 36 columns]\n"
     ]
    }
   ],
   "execution_count": 14
  },
  {
   "metadata": {
    "ExecuteTime": {
     "end_time": "2025-08-26T15:35:51.456261Z",
     "start_time": "2025-08-26T15:35:30.514573Z"
    }
   },
   "cell_type": "code",
   "source": [
    "import numpy as np\n",
    "\n",
    "p1 = r'^[A-Za-z]+(?:_[A-Za-z_]+)+$'        # snake\n",
    "p2 = r'^[A-Z][a-z]+(?:[A-Z][a-z]+)+$'      # UpperCamel\n",
    "p3 = r'^[a-z]+(?:[A-Z][a-z]+)+$'           # lowerCamel\n",
    "p4 = r'^[A-Za-z]+(?:-[A-Za-z-]+)+$'        # kebab-like (at least one \"-\")\n",
    "p5 = r'^[A-Z]+$'                           # ALLCAPS\n",
    "\n",
    "conds = [\n",
    "    df[\"text\"].str.fullmatch(p1, na=False),\n",
    "    df[\"text\"].str.fullmatch(p2, na=False),\n",
    "    df[\"text\"].str.fullmatch(p3, na=False),\n",
    "    df[\"text\"].str.fullmatch(p4, na=False),\n",
    "    df[\"text\"].str.fullmatch(p5, na=False),\n",
    "]\n",
    "\n",
    "df[\"format\"] = np.select(conds, [1, 2, 3, 4, 5], default=0).astype(int)\n",
    "display(df)"
   ],
   "id": "ab775c9006d41415",
   "outputs": [
    {
     "name": "stdout",
     "output_type": "stream",
     "text": [
      "      all_hexa arrow backslash  balanced_parentheses  \\\n",
      "label                                                  \n",
      "0       707662  6792    215146                109586   \n",
      "1      4440657    11       561                  1841   \n",
      "2       585061  4800    432070                 66058   \n",
      "\n",
      "       balanced_parentheses_curl  balanced_parentheses_square   byte  date  \\\n",
      "label                                                                        \n",
      "0                          64220                        45205  53854  3442   \n",
      "1                             96                          468     49    15   \n",
      "2                          65761                        65485  72508     0   \n",
      "\n",
      "      double_backslash double_colon  ... s_nonword_fraction s_vowel_fraction  \\\n",
      "label                                ...                                       \n",
      "0                16903        17839  ...      277196.972102     5.034402e+05   \n",
      "1                   45           47  ...       49871.576872     1.233452e+06   \n",
      "2                 4739         4709  ...      824677.297770     2.659200e+05   \n",
      "\n",
      "       space  special special_end triple_equal  upper_start  \\\n",
      "label                                                         \n",
      "0          0  1127466      320665         3077       134608   \n",
      "1      14426   304927      119342           30       109517   \n",
      "2          0  2441387      665739           47       690666   \n",
      "\n",
      "       word_length_mod_4    xml   year  \n",
      "label                                   \n",
      "0                 788028  11795   6624  \n",
      "1                1764496     23  14326  \n",
      "2                1239335  12519     14  \n",
      "\n",
      "[3 rows x 37 columns]\n"
     ]
    }
   ],
   "execution_count": 16
  },
  {
   "metadata": {
    "ExecuteTime": {
     "end_time": "2025-08-26T15:38:07.141211Z",
     "start_time": "2025-08-26T15:35:51.460505Z"
    }
   },
   "cell_type": "code",
   "source": [
    "words = pd.read_csv(\"/Users/danylewin/thingies/university/CS Workshop/Finney/data/words.txt\", header=None, names=[\"word\"])\n",
    "wordset = set(words[\"word\"].astype(str))\n",
    "df[\"word\"] = df[\"text\"].isin(wordset)\n",
    "df[\"word_count\"] = df[\"text\"].apply(\n",
    "    lambda r: sum(w in str(r) for w in wordset)\n",
    ")\n",
    "display(df)"
   ],
   "id": "7913d7cc34009f09",
   "outputs": [
    {
     "ename": "KeyboardInterrupt",
     "evalue": "",
     "output_type": "error",
     "traceback": [
      "\u001B[31m---------------------------------------------------------------------------\u001B[39m",
      "\u001B[31mKeyboardInterrupt\u001B[39m                         Traceback (most recent call last)",
      "\u001B[36mCell\u001B[39m\u001B[36m \u001B[39m\u001B[32mIn[17]\u001B[39m\u001B[32m, line 4\u001B[39m\n\u001B[32m      2\u001B[39m wordset = \u001B[38;5;28mset\u001B[39m(words[\u001B[33m\"\u001B[39m\u001B[33mword\u001B[39m\u001B[33m\"\u001B[39m].astype(\u001B[38;5;28mstr\u001B[39m))\n\u001B[32m      3\u001B[39m df[\u001B[33m\"\u001B[39m\u001B[33mword\u001B[39m\u001B[33m\"\u001B[39m] = df[\u001B[33m\"\u001B[39m\u001B[33mtext\u001B[39m\u001B[33m\"\u001B[39m].isin(wordset)\n\u001B[32m----> \u001B[39m\u001B[32m4\u001B[39m df[\u001B[33m\"\u001B[39m\u001B[33mword_count\u001B[39m\u001B[33m\"\u001B[39m] = \u001B[43mdf\u001B[49m\u001B[43m[\u001B[49m\u001B[33;43m\"\u001B[39;49m\u001B[33;43mtext\u001B[39;49m\u001B[33;43m\"\u001B[39;49m\u001B[43m]\u001B[49m\u001B[43m.\u001B[49m\u001B[43mapply\u001B[49m\u001B[43m(\u001B[49m\n\u001B[32m      5\u001B[39m \u001B[43m    \u001B[49m\u001B[38;5;28;43;01mlambda\u001B[39;49;00m\u001B[43m \u001B[49m\u001B[43mr\u001B[49m\u001B[43m:\u001B[49m\u001B[43m \u001B[49m\u001B[38;5;28;43msum\u001B[39;49m\u001B[43m(\u001B[49m\u001B[43mw\u001B[49m\u001B[43m \u001B[49m\u001B[38;5;129;43;01min\u001B[39;49;00m\u001B[43m \u001B[49m\u001B[38;5;28;43mstr\u001B[39;49m\u001B[43m(\u001B[49m\u001B[43mr\u001B[49m\u001B[43m)\u001B[49m\u001B[43m \u001B[49m\u001B[38;5;28;43;01mfor\u001B[39;49;00m\u001B[43m \u001B[49m\u001B[43mw\u001B[49m\u001B[43m \u001B[49m\u001B[38;5;129;43;01min\u001B[39;49;00m\u001B[43m \u001B[49m\u001B[43mwordset\u001B[49m\u001B[43m)\u001B[49m\n\u001B[32m      6\u001B[39m \u001B[43m)\u001B[49m\n\u001B[32m      7\u001B[39m display(df)\n",
      "\u001B[36mFile \u001B[39m\u001B[32m~/.pyenv/versions/finney@3.12.6/lib/python3.12/site-packages/pandas/core/series.py:4935\u001B[39m, in \u001B[36mSeries.apply\u001B[39m\u001B[34m(self, func, convert_dtype, args, by_row, **kwargs)\u001B[39m\n\u001B[32m   4800\u001B[39m \u001B[38;5;28;01mdef\u001B[39;00m\u001B[38;5;250m \u001B[39m\u001B[34mapply\u001B[39m(\n\u001B[32m   4801\u001B[39m     \u001B[38;5;28mself\u001B[39m,\n\u001B[32m   4802\u001B[39m     func: AggFuncType,\n\u001B[32m   (...)\u001B[39m\u001B[32m   4807\u001B[39m     **kwargs,\n\u001B[32m   4808\u001B[39m ) -> DataFrame | Series:\n\u001B[32m   4809\u001B[39m \u001B[38;5;250m    \u001B[39m\u001B[33;03m\"\"\"\u001B[39;00m\n\u001B[32m   4810\u001B[39m \u001B[33;03m    Invoke function on values of Series.\u001B[39;00m\n\u001B[32m   4811\u001B[39m \n\u001B[32m   (...)\u001B[39m\u001B[32m   4926\u001B[39m \u001B[33;03m    dtype: float64\u001B[39;00m\n\u001B[32m   4927\u001B[39m \u001B[33;03m    \"\"\"\u001B[39;00m\n\u001B[32m   4928\u001B[39m     \u001B[38;5;28;01mreturn\u001B[39;00m \u001B[43mSeriesApply\u001B[49m\u001B[43m(\u001B[49m\n\u001B[32m   4929\u001B[39m \u001B[43m        \u001B[49m\u001B[38;5;28;43mself\u001B[39;49m\u001B[43m,\u001B[49m\n\u001B[32m   4930\u001B[39m \u001B[43m        \u001B[49m\u001B[43mfunc\u001B[49m\u001B[43m,\u001B[49m\n\u001B[32m   4931\u001B[39m \u001B[43m        \u001B[49m\u001B[43mconvert_dtype\u001B[49m\u001B[43m=\u001B[49m\u001B[43mconvert_dtype\u001B[49m\u001B[43m,\u001B[49m\n\u001B[32m   4932\u001B[39m \u001B[43m        \u001B[49m\u001B[43mby_row\u001B[49m\u001B[43m=\u001B[49m\u001B[43mby_row\u001B[49m\u001B[43m,\u001B[49m\n\u001B[32m   4933\u001B[39m \u001B[43m        \u001B[49m\u001B[43margs\u001B[49m\u001B[43m=\u001B[49m\u001B[43margs\u001B[49m\u001B[43m,\u001B[49m\n\u001B[32m   4934\u001B[39m \u001B[43m        \u001B[49m\u001B[43mkwargs\u001B[49m\u001B[43m=\u001B[49m\u001B[43mkwargs\u001B[49m\u001B[43m,\u001B[49m\n\u001B[32m-> \u001B[39m\u001B[32m4935\u001B[39m \u001B[43m    \u001B[49m\u001B[43m)\u001B[49m\u001B[43m.\u001B[49m\u001B[43mapply\u001B[49m\u001B[43m(\u001B[49m\u001B[43m)\u001B[49m\n",
      "\u001B[36mFile \u001B[39m\u001B[32m~/.pyenv/versions/finney@3.12.6/lib/python3.12/site-packages/pandas/core/apply.py:1422\u001B[39m, in \u001B[36mSeriesApply.apply\u001B[39m\u001B[34m(self)\u001B[39m\n\u001B[32m   1419\u001B[39m     \u001B[38;5;28;01mreturn\u001B[39;00m \u001B[38;5;28mself\u001B[39m.apply_compat()\n\u001B[32m   1421\u001B[39m \u001B[38;5;66;03m# self.func is Callable\u001B[39;00m\n\u001B[32m-> \u001B[39m\u001B[32m1422\u001B[39m \u001B[38;5;28;01mreturn\u001B[39;00m \u001B[38;5;28;43mself\u001B[39;49m\u001B[43m.\u001B[49m\u001B[43mapply_standard\u001B[49m\u001B[43m(\u001B[49m\u001B[43m)\u001B[49m\n",
      "\u001B[36mFile \u001B[39m\u001B[32m~/.pyenv/versions/finney@3.12.6/lib/python3.12/site-packages/pandas/core/apply.py:1502\u001B[39m, in \u001B[36mSeriesApply.apply_standard\u001B[39m\u001B[34m(self)\u001B[39m\n\u001B[32m   1496\u001B[39m \u001B[38;5;66;03m# row-wise access\u001B[39;00m\n\u001B[32m   1497\u001B[39m \u001B[38;5;66;03m# apply doesn't have a `na_action` keyword and for backward compat reasons\u001B[39;00m\n\u001B[32m   1498\u001B[39m \u001B[38;5;66;03m# we need to give `na_action=\"ignore\"` for categorical data.\u001B[39;00m\n\u001B[32m   1499\u001B[39m \u001B[38;5;66;03m# TODO: remove the `na_action=\"ignore\"` when that default has been changed in\u001B[39;00m\n\u001B[32m   1500\u001B[39m \u001B[38;5;66;03m#  Categorical (GH51645).\u001B[39;00m\n\u001B[32m   1501\u001B[39m action = \u001B[33m\"\u001B[39m\u001B[33mignore\u001B[39m\u001B[33m\"\u001B[39m \u001B[38;5;28;01mif\u001B[39;00m \u001B[38;5;28misinstance\u001B[39m(obj.dtype, CategoricalDtype) \u001B[38;5;28;01melse\u001B[39;00m \u001B[38;5;28;01mNone\u001B[39;00m\n\u001B[32m-> \u001B[39m\u001B[32m1502\u001B[39m mapped = \u001B[43mobj\u001B[49m\u001B[43m.\u001B[49m\u001B[43m_map_values\u001B[49m\u001B[43m(\u001B[49m\n\u001B[32m   1503\u001B[39m \u001B[43m    \u001B[49m\u001B[43mmapper\u001B[49m\u001B[43m=\u001B[49m\u001B[43mcurried\u001B[49m\u001B[43m,\u001B[49m\u001B[43m \u001B[49m\u001B[43mna_action\u001B[49m\u001B[43m=\u001B[49m\u001B[43maction\u001B[49m\u001B[43m,\u001B[49m\u001B[43m \u001B[49m\u001B[43mconvert\u001B[49m\u001B[43m=\u001B[49m\u001B[38;5;28;43mself\u001B[39;49m\u001B[43m.\u001B[49m\u001B[43mconvert_dtype\u001B[49m\n\u001B[32m   1504\u001B[39m \u001B[43m\u001B[49m\u001B[43m)\u001B[49m\n\u001B[32m   1506\u001B[39m \u001B[38;5;28;01mif\u001B[39;00m \u001B[38;5;28mlen\u001B[39m(mapped) \u001B[38;5;129;01mand\u001B[39;00m \u001B[38;5;28misinstance\u001B[39m(mapped[\u001B[32m0\u001B[39m], ABCSeries):\n\u001B[32m   1507\u001B[39m     \u001B[38;5;66;03m# GH#43986 Need to do list(mapped) in order to get treated as nested\u001B[39;00m\n\u001B[32m   1508\u001B[39m     \u001B[38;5;66;03m#  See also GH#25959 regarding EA support\u001B[39;00m\n\u001B[32m   1509\u001B[39m     \u001B[38;5;28;01mreturn\u001B[39;00m obj._constructor_expanddim(\u001B[38;5;28mlist\u001B[39m(mapped), index=obj.index)\n",
      "\u001B[36mFile \u001B[39m\u001B[32m~/.pyenv/versions/finney@3.12.6/lib/python3.12/site-packages/pandas/core/base.py:925\u001B[39m, in \u001B[36mIndexOpsMixin._map_values\u001B[39m\u001B[34m(self, mapper, na_action, convert)\u001B[39m\n\u001B[32m    922\u001B[39m \u001B[38;5;28;01mif\u001B[39;00m \u001B[38;5;28misinstance\u001B[39m(arr, ExtensionArray):\n\u001B[32m    923\u001B[39m     \u001B[38;5;28;01mreturn\u001B[39;00m arr.map(mapper, na_action=na_action)\n\u001B[32m--> \u001B[39m\u001B[32m925\u001B[39m \u001B[38;5;28;01mreturn\u001B[39;00m \u001B[43malgorithms\u001B[49m\u001B[43m.\u001B[49m\u001B[43mmap_array\u001B[49m\u001B[43m(\u001B[49m\u001B[43marr\u001B[49m\u001B[43m,\u001B[49m\u001B[43m \u001B[49m\u001B[43mmapper\u001B[49m\u001B[43m,\u001B[49m\u001B[43m \u001B[49m\u001B[43mna_action\u001B[49m\u001B[43m=\u001B[49m\u001B[43mna_action\u001B[49m\u001B[43m,\u001B[49m\u001B[43m \u001B[49m\u001B[43mconvert\u001B[49m\u001B[43m=\u001B[49m\u001B[43mconvert\u001B[49m\u001B[43m)\u001B[49m\n",
      "\u001B[36mFile \u001B[39m\u001B[32m~/.pyenv/versions/finney@3.12.6/lib/python3.12/site-packages/pandas/core/algorithms.py:1743\u001B[39m, in \u001B[36mmap_array\u001B[39m\u001B[34m(arr, mapper, na_action, convert)\u001B[39m\n\u001B[32m   1741\u001B[39m values = arr.astype(\u001B[38;5;28mobject\u001B[39m, copy=\u001B[38;5;28;01mFalse\u001B[39;00m)\n\u001B[32m   1742\u001B[39m \u001B[38;5;28;01mif\u001B[39;00m na_action \u001B[38;5;129;01mis\u001B[39;00m \u001B[38;5;28;01mNone\u001B[39;00m:\n\u001B[32m-> \u001B[39m\u001B[32m1743\u001B[39m     \u001B[38;5;28;01mreturn\u001B[39;00m \u001B[43mlib\u001B[49m\u001B[43m.\u001B[49m\u001B[43mmap_infer\u001B[49m\u001B[43m(\u001B[49m\u001B[43mvalues\u001B[49m\u001B[43m,\u001B[49m\u001B[43m \u001B[49m\u001B[43mmapper\u001B[49m\u001B[43m,\u001B[49m\u001B[43m \u001B[49m\u001B[43mconvert\u001B[49m\u001B[43m=\u001B[49m\u001B[43mconvert\u001B[49m\u001B[43m)\u001B[49m\n\u001B[32m   1744\u001B[39m \u001B[38;5;28;01melse\u001B[39;00m:\n\u001B[32m   1745\u001B[39m     \u001B[38;5;28;01mreturn\u001B[39;00m lib.map_infer_mask(\n\u001B[32m   1746\u001B[39m         values, mapper, mask=isna(values).view(np.uint8), convert=convert\n\u001B[32m   1747\u001B[39m     )\n",
      "\u001B[36mFile \u001B[39m\u001B[32mpandas/_libs/lib.pyx:2999\u001B[39m, in \u001B[36mpandas._libs.lib.map_infer\u001B[39m\u001B[34m()\u001B[39m\n",
      "\u001B[36mCell\u001B[39m\u001B[36m \u001B[39m\u001B[32mIn[17]\u001B[39m\u001B[32m, line 5\u001B[39m, in \u001B[36m<lambda>\u001B[39m\u001B[34m(r)\u001B[39m\n\u001B[32m      2\u001B[39m wordset = \u001B[38;5;28mset\u001B[39m(words[\u001B[33m\"\u001B[39m\u001B[33mword\u001B[39m\u001B[33m\"\u001B[39m].astype(\u001B[38;5;28mstr\u001B[39m))\n\u001B[32m      3\u001B[39m df[\u001B[33m\"\u001B[39m\u001B[33mword\u001B[39m\u001B[33m\"\u001B[39m] = df[\u001B[33m\"\u001B[39m\u001B[33mtext\u001B[39m\u001B[33m\"\u001B[39m].isin(wordset)\n\u001B[32m      4\u001B[39m df[\u001B[33m\"\u001B[39m\u001B[33mword_count\u001B[39m\u001B[33m\"\u001B[39m] = df[\u001B[33m\"\u001B[39m\u001B[33mtext\u001B[39m\u001B[33m\"\u001B[39m].apply(\n\u001B[32m----> \u001B[39m\u001B[32m5\u001B[39m     \u001B[38;5;28;01mlambda\u001B[39;00m r: \u001B[38;5;28;43msum\u001B[39;49m\u001B[43m(\u001B[49m\u001B[43mw\u001B[49m\u001B[43m \u001B[49m\u001B[38;5;129;43;01min\u001B[39;49;00m\u001B[43m \u001B[49m\u001B[38;5;28;43mstr\u001B[39;49m\u001B[43m(\u001B[49m\u001B[43mr\u001B[49m\u001B[43m)\u001B[49m\u001B[43m \u001B[49m\u001B[38;5;28;43;01mfor\u001B[39;49;00m\u001B[43m \u001B[49m\u001B[43mw\u001B[49m\u001B[43m \u001B[49m\u001B[38;5;129;43;01min\u001B[39;49;00m\u001B[43m \u001B[49m\u001B[43mwordset\u001B[49m\u001B[43m)\u001B[49m\n\u001B[32m      6\u001B[39m )\n\u001B[32m      7\u001B[39m display(df)\n",
      "\u001B[36mCell\u001B[39m\u001B[36m \u001B[39m\u001B[32mIn[17]\u001B[39m\u001B[32m, line 5\u001B[39m, in \u001B[36m<genexpr>\u001B[39m\u001B[34m(.0)\u001B[39m\n\u001B[32m      2\u001B[39m wordset = \u001B[38;5;28mset\u001B[39m(words[\u001B[33m\"\u001B[39m\u001B[33mword\u001B[39m\u001B[33m\"\u001B[39m].astype(\u001B[38;5;28mstr\u001B[39m))\n\u001B[32m      3\u001B[39m df[\u001B[33m\"\u001B[39m\u001B[33mword\u001B[39m\u001B[33m\"\u001B[39m] = df[\u001B[33m\"\u001B[39m\u001B[33mtext\u001B[39m\u001B[33m\"\u001B[39m].isin(wordset)\n\u001B[32m      4\u001B[39m df[\u001B[33m\"\u001B[39m\u001B[33mword_count\u001B[39m\u001B[33m\"\u001B[39m] = df[\u001B[33m\"\u001B[39m\u001B[33mtext\u001B[39m\u001B[33m\"\u001B[39m].apply(\n\u001B[32m----> \u001B[39m\u001B[32m5\u001B[39m     \u001B[38;5;28;01mlambda\u001B[39;00m r: \u001B[38;5;28msum\u001B[39m(w \u001B[38;5;129;01min\u001B[39;00m \u001B[38;5;28mstr\u001B[39m(r) \u001B[38;5;28;01mfor\u001B[39;00m w \u001B[38;5;129;01min\u001B[39;00m wordset)\n\u001B[32m      6\u001B[39m )\n\u001B[32m      7\u001B[39m display(df)\n",
      "\u001B[31mKeyboardInterrupt\u001B[39m: "
     ]
    }
   ],
   "execution_count": 17
  },
  {
   "metadata": {},
   "cell_type": "code",
   "source": [
    "keywords = pd.read_csv(\"/Users/danylewin/thingies/university/CS Workshop/Finney/data/keywords.txt\", header=None, names=[\"keyword\"])\n",
    "keyword_set = set(keywords[\"keyword\"].astype(str))\n",
    "df[\"keyword\"] = df[\"text\"].isin(keyword_set)\n",
    "df[\"keyword_count\"] = df[\"text\"].apply(\n",
    "    lambda r: sum(w in str(r) for w in keyword_set)\n",
    ")\n",
    "display(df)"
   ],
   "id": "6c8dfacd6425a83",
   "outputs": [],
   "execution_count": null
  },
  {
   "metadata": {
    "ExecuteTime": {
     "end_time": "2025-08-26T15:39:10.264280Z",
     "start_time": "2025-08-26T15:38:10.286153Z"
    }
   },
   "cell_type": "code",
   "source": [
    "domains = pd.read_csv(\"/Users/danylewin/thingies/university/CS Workshop/Finney/data/domains.txt\", header=None, names=[\"tld\"])\n",
    "domains = set(domains[\"tld\"].astype(str))\n",
    "\n",
    "alt = \"|\".join(map(re.escape, domains))\n",
    "pat = re.compile(rf\"(?:{alt})\\b\")\n",
    "df[\"likely_url\"] = df[\"text\"].astype(str).str.contains(pat, na=False)\n",
    "display(df)"
   ],
   "id": "e5d299955cefdef6",
   "outputs": [
    {
     "name": "stdout",
     "output_type": "stream",
     "text": [
      "      all_hexa arrow backslash  balanced_parentheses  \\\n",
      "label                                                  \n",
      "0       707662  6792    215146                109586   \n",
      "1      4440657    11       561                  1841   \n",
      "2       585061  4800    432070                 66058   \n",
      "\n",
      "       balanced_parentheses_curl  balanced_parentheses_square   byte  date  \\\n",
      "label                                                                        \n",
      "0                          64220                        45205  53854  3442   \n",
      "1                             96                          468     49    15   \n",
      "2                          65761                        65485  72508     0   \n",
      "\n",
      "      double_backslash double_colon  ... s_vowel_fraction  space  special  \\\n",
      "label                                ...                                    \n",
      "0                16903        17839  ...     5.034402e+05      0  1127466   \n",
      "1                   45           47  ...     1.233452e+06  14426   304927   \n",
      "2                 4739         4709  ...     2.659200e+05      0  2441387   \n",
      "\n",
      "       special_end triple_equal upper_start  word  word_length_mod_4    xml  \\\n",
      "label                                                                         \n",
      "0           320665         3077      134608   633             788028  11795   \n",
      "1           119342           30      109517     4            1764496     23   \n",
      "2           665739           47      690666     0            1239335  12519   \n",
      "\n",
      "        year  \n",
      "label         \n",
      "0       6624  \n",
      "1      14326  \n",
      "2         14  \n",
      "\n",
      "[3 rows x 39 columns]\n"
     ]
    }
   ],
   "execution_count": 18
  },
  {
   "metadata": {
    "ExecuteTime": {
     "end_time": "2025-08-26T15:39:29.121876Z",
     "start_time": "2025-08-26T15:39:10.329216Z"
    }
   },
   "cell_type": "code",
   "source": [
    "extensions = set()  # taken from https://gist.github.com/securifera/e7eed730cbe1ce43d0c29d7cd2d582f4\n",
    "with open(\"/Users/danylewin/thingies/university/CS Workshop/Finney/data/extensions.txt\", \"r\") as f:\n",
    "    for line in f.readlines():\n",
    "        extensions.add(line.casefold())\n",
    "\n",
    "extensions = map(str.strip, extensions)\n",
    "temp = \"|\".join(map(re.escape, extensions))\n",
    "file_type_pattern = re.compile(rf\"({temp})$\")\n",
    "df[\"file_path\"] = df[\"text\"].astype(str).str.contains(file_type_pattern, na=False, regex=True)\n",
    "display(df)"
   ],
   "id": "1035844f5a9cdc4f",
   "outputs": [
    {
     "name": "stderr",
     "output_type": "stream",
     "text": [
      "/var/folders/h7/bps63nln4tzbmcz9pk0919kc0000gn/T/ipykernel_89138/2859595359.py:9: UserWarning: This pattern is interpreted as a regular expression, and has match groups. To actually get the groups, use str.extract.\n",
      "  df[\"file_path\"] = df[\"text\"].astype(str).str.contains(file_type_pattern, na=False, regex=True)\n"
     ]
    },
    {
     "name": "stdout",
     "output_type": "stream",
     "text": [
      "      all_hexa arrow backslash  balanced_parentheses  \\\n",
      "label                                                  \n",
      "0       707662  6792    215146                109586   \n",
      "1      4440657    11       561                  1841   \n",
      "2       585061  4800    432070                 66058   \n",
      "\n",
      "       balanced_parentheses_curl  balanced_parentheses_square   byte  date  \\\n",
      "label                                                                        \n",
      "0                          64220                        45205  53854  3442   \n",
      "1                             96                          468     49    15   \n",
      "2                          65761                        65485  72508     0   \n",
      "\n",
      "      double_backslash double_colon  ... s_vowel_fraction  space  special  \\\n",
      "label                                ...                                    \n",
      "0                16903        17839  ...     5.034402e+05      0  1127466   \n",
      "1                   45           47  ...     1.233452e+06  14426   304927   \n",
      "2                 4739         4709  ...     2.659200e+05      0  2441387   \n",
      "\n",
      "       special_end  triple_equal upper_start word  word_length_mod_4    xml  \\\n",
      "label                                                                         \n",
      "0           320665          3077      134608  633             788028  11795   \n",
      "1           119342            30      109517    4            1764496     23   \n",
      "2           665739            47      690666    0            1239335  12519   \n",
      "\n",
      "        year  \n",
      "label         \n",
      "0       6624  \n",
      "1      14326  \n",
      "2         14  \n",
      "\n",
      "[3 rows x 40 columns]\n"
     ]
    }
   ],
   "execution_count": 19
  },
  {
   "metadata": {
    "ExecuteTime": {
     "end_time": "2025-08-26T15:39:30.432613Z",
     "start_time": "2025-08-26T15:39:30.253109Z"
    }
   },
   "cell_type": "code",
   "source": "df.sample(10)",
   "id": "78c4ab2971b8c43d",
   "outputs": [
    {
     "data": {
      "text/plain": [
       "                          text  label special special_end upper_start  space  \\\n",
       "5065433                chili00      1   False       False       False  False   \n",
       "3575962            trouble1991      1   False       False       False  False   \n",
       "6997460             org.lwjgl.      0   False       False       False  False   \n",
       "4199841        233513503701007      1   False       False       False  False   \n",
       "3732247           Vegasvegas24      1   False       False       False  False   \n",
       "1131072                vaina69      1   False       False       False  False   \n",
       "6153039               qHSehcbE      0   False       False        True  False   \n",
       "3549635                pin1131      1   False       False       False  False   \n",
       "7329267  /jespern/help/zealots      0    True       False       False  False   \n",
       "8752401        nHUW7<qvR=GwS9P      2    True       False        True  False   \n",
       "\n",
       "        all_hexa   byte path_sub path_relative  ... longest_cons longest_hexa  \\\n",
       "5065433     True  False    False         False  ...            2            2   \n",
       "3575962     True  False    False         False  ...            2            5   \n",
       "6997460    False  False    False         False  ...            3            0   \n",
       "4199841     True  False    False         False  ...            0           15   \n",
       "3732247     True  False    False         False  ...            2            2   \n",
       "1131072     True  False    False         False  ...            1            3   \n",
       "6153039     True  False    False         False  ...            3            3   \n",
       "3549635     True  False    False         False  ...            1            4   \n",
       "7329267    False  False    False         False  ...            2            2   \n",
       "8752401    False  False    False         False  ...            3            1   \n",
       "\n",
       "        s_digit_fraction s_vowel_fraction s_nonword_fraction  \\\n",
       "5065433         0.285714         0.285714           0.000000   \n",
       "3575962         0.363636         0.272727           0.000000   \n",
       "6997460         0.000000         0.100000           0.200000   \n",
       "4199841         1.000000         0.000000           0.000000   \n",
       "3732247         0.166667         0.333333           0.000000   \n",
       "1131072         0.285714         0.428571           0.000000   \n",
       "6153039         0.000000         0.250000           0.000000   \n",
       "3549635         0.571429         0.142857           0.000000   \n",
       "7329267         0.000000         0.285714           0.142857   \n",
       "8752401         0.133333         0.066667           0.133333   \n",
       "\n",
       "        word_length_mod_4 format   word likely_url file_path  \n",
       "5065433                 0      0  False      False     False  \n",
       "3575962                 0      0  False      False     False  \n",
       "6997460                 0      0  False      False     False  \n",
       "4199841                 0      0  False      False     False  \n",
       "3732247                 1      0  False      False     False  \n",
       "1131072                 0      0  False      False     False  \n",
       "6153039                 1      0  False      False     False  \n",
       "3549635                 0      0  False      False     False  \n",
       "7329267                 1      0  False      False     False  \n",
       "8752401                 0      0  False      False     False  \n",
       "\n",
       "[10 rows x 42 columns]"
      ],
      "text/html": [
       "<div>\n",
       "<style scoped>\n",
       "    .dataframe tbody tr th:only-of-type {\n",
       "        vertical-align: middle;\n",
       "    }\n",
       "\n",
       "    .dataframe tbody tr th {\n",
       "        vertical-align: top;\n",
       "    }\n",
       "\n",
       "    .dataframe thead th {\n",
       "        text-align: right;\n",
       "    }\n",
       "</style>\n",
       "<table border=\"1\" class=\"dataframe\">\n",
       "  <thead>\n",
       "    <tr style=\"text-align: right;\">\n",
       "      <th></th>\n",
       "      <th>text</th>\n",
       "      <th>label</th>\n",
       "      <th>special</th>\n",
       "      <th>special_end</th>\n",
       "      <th>upper_start</th>\n",
       "      <th>space</th>\n",
       "      <th>all_hexa</th>\n",
       "      <th>byte</th>\n",
       "      <th>path_sub</th>\n",
       "      <th>path_relative</th>\n",
       "      <th>...</th>\n",
       "      <th>longest_cons</th>\n",
       "      <th>longest_hexa</th>\n",
       "      <th>s_digit_fraction</th>\n",
       "      <th>s_vowel_fraction</th>\n",
       "      <th>s_nonword_fraction</th>\n",
       "      <th>word_length_mod_4</th>\n",
       "      <th>format</th>\n",
       "      <th>word</th>\n",
       "      <th>likely_url</th>\n",
       "      <th>file_path</th>\n",
       "    </tr>\n",
       "  </thead>\n",
       "  <tbody>\n",
       "    <tr>\n",
       "      <th>5065433</th>\n",
       "      <td>chili00</td>\n",
       "      <td>1</td>\n",
       "      <td>False</td>\n",
       "      <td>False</td>\n",
       "      <td>False</td>\n",
       "      <td>False</td>\n",
       "      <td>True</td>\n",
       "      <td>False</td>\n",
       "      <td>False</td>\n",
       "      <td>False</td>\n",
       "      <td>...</td>\n",
       "      <td>2</td>\n",
       "      <td>2</td>\n",
       "      <td>0.285714</td>\n",
       "      <td>0.285714</td>\n",
       "      <td>0.000000</td>\n",
       "      <td>0</td>\n",
       "      <td>0</td>\n",
       "      <td>False</td>\n",
       "      <td>False</td>\n",
       "      <td>False</td>\n",
       "    </tr>\n",
       "    <tr>\n",
       "      <th>3575962</th>\n",
       "      <td>trouble1991</td>\n",
       "      <td>1</td>\n",
       "      <td>False</td>\n",
       "      <td>False</td>\n",
       "      <td>False</td>\n",
       "      <td>False</td>\n",
       "      <td>True</td>\n",
       "      <td>False</td>\n",
       "      <td>False</td>\n",
       "      <td>False</td>\n",
       "      <td>...</td>\n",
       "      <td>2</td>\n",
       "      <td>5</td>\n",
       "      <td>0.363636</td>\n",
       "      <td>0.272727</td>\n",
       "      <td>0.000000</td>\n",
       "      <td>0</td>\n",
       "      <td>0</td>\n",
       "      <td>False</td>\n",
       "      <td>False</td>\n",
       "      <td>False</td>\n",
       "    </tr>\n",
       "    <tr>\n",
       "      <th>6997460</th>\n",
       "      <td>org.lwjgl.</td>\n",
       "      <td>0</td>\n",
       "      <td>False</td>\n",
       "      <td>False</td>\n",
       "      <td>False</td>\n",
       "      <td>False</td>\n",
       "      <td>False</td>\n",
       "      <td>False</td>\n",
       "      <td>False</td>\n",
       "      <td>False</td>\n",
       "      <td>...</td>\n",
       "      <td>3</td>\n",
       "      <td>0</td>\n",
       "      <td>0.000000</td>\n",
       "      <td>0.100000</td>\n",
       "      <td>0.200000</td>\n",
       "      <td>0</td>\n",
       "      <td>0</td>\n",
       "      <td>False</td>\n",
       "      <td>False</td>\n",
       "      <td>False</td>\n",
       "    </tr>\n",
       "    <tr>\n",
       "      <th>4199841</th>\n",
       "      <td>233513503701007</td>\n",
       "      <td>1</td>\n",
       "      <td>False</td>\n",
       "      <td>False</td>\n",
       "      <td>False</td>\n",
       "      <td>False</td>\n",
       "      <td>True</td>\n",
       "      <td>False</td>\n",
       "      <td>False</td>\n",
       "      <td>False</td>\n",
       "      <td>...</td>\n",
       "      <td>0</td>\n",
       "      <td>15</td>\n",
       "      <td>1.000000</td>\n",
       "      <td>0.000000</td>\n",
       "      <td>0.000000</td>\n",
       "      <td>0</td>\n",
       "      <td>0</td>\n",
       "      <td>False</td>\n",
       "      <td>False</td>\n",
       "      <td>False</td>\n",
       "    </tr>\n",
       "    <tr>\n",
       "      <th>3732247</th>\n",
       "      <td>Vegasvegas24</td>\n",
       "      <td>1</td>\n",
       "      <td>False</td>\n",
       "      <td>False</td>\n",
       "      <td>False</td>\n",
       "      <td>False</td>\n",
       "      <td>True</td>\n",
       "      <td>False</td>\n",
       "      <td>False</td>\n",
       "      <td>False</td>\n",
       "      <td>...</td>\n",
       "      <td>2</td>\n",
       "      <td>2</td>\n",
       "      <td>0.166667</td>\n",
       "      <td>0.333333</td>\n",
       "      <td>0.000000</td>\n",
       "      <td>1</td>\n",
       "      <td>0</td>\n",
       "      <td>False</td>\n",
       "      <td>False</td>\n",
       "      <td>False</td>\n",
       "    </tr>\n",
       "    <tr>\n",
       "      <th>1131072</th>\n",
       "      <td>vaina69</td>\n",
       "      <td>1</td>\n",
       "      <td>False</td>\n",
       "      <td>False</td>\n",
       "      <td>False</td>\n",
       "      <td>False</td>\n",
       "      <td>True</td>\n",
       "      <td>False</td>\n",
       "      <td>False</td>\n",
       "      <td>False</td>\n",
       "      <td>...</td>\n",
       "      <td>1</td>\n",
       "      <td>3</td>\n",
       "      <td>0.285714</td>\n",
       "      <td>0.428571</td>\n",
       "      <td>0.000000</td>\n",
       "      <td>0</td>\n",
       "      <td>0</td>\n",
       "      <td>False</td>\n",
       "      <td>False</td>\n",
       "      <td>False</td>\n",
       "    </tr>\n",
       "    <tr>\n",
       "      <th>6153039</th>\n",
       "      <td>qHSehcbE</td>\n",
       "      <td>0</td>\n",
       "      <td>False</td>\n",
       "      <td>False</td>\n",
       "      <td>True</td>\n",
       "      <td>False</td>\n",
       "      <td>True</td>\n",
       "      <td>False</td>\n",
       "      <td>False</td>\n",
       "      <td>False</td>\n",
       "      <td>...</td>\n",
       "      <td>3</td>\n",
       "      <td>3</td>\n",
       "      <td>0.000000</td>\n",
       "      <td>0.250000</td>\n",
       "      <td>0.000000</td>\n",
       "      <td>1</td>\n",
       "      <td>0</td>\n",
       "      <td>False</td>\n",
       "      <td>False</td>\n",
       "      <td>False</td>\n",
       "    </tr>\n",
       "    <tr>\n",
       "      <th>3549635</th>\n",
       "      <td>pin1131</td>\n",
       "      <td>1</td>\n",
       "      <td>False</td>\n",
       "      <td>False</td>\n",
       "      <td>False</td>\n",
       "      <td>False</td>\n",
       "      <td>True</td>\n",
       "      <td>False</td>\n",
       "      <td>False</td>\n",
       "      <td>False</td>\n",
       "      <td>...</td>\n",
       "      <td>1</td>\n",
       "      <td>4</td>\n",
       "      <td>0.571429</td>\n",
       "      <td>0.142857</td>\n",
       "      <td>0.000000</td>\n",
       "      <td>0</td>\n",
       "      <td>0</td>\n",
       "      <td>False</td>\n",
       "      <td>False</td>\n",
       "      <td>False</td>\n",
       "    </tr>\n",
       "    <tr>\n",
       "      <th>7329267</th>\n",
       "      <td>/jespern/help/zealots</td>\n",
       "      <td>0</td>\n",
       "      <td>True</td>\n",
       "      <td>False</td>\n",
       "      <td>False</td>\n",
       "      <td>False</td>\n",
       "      <td>False</td>\n",
       "      <td>False</td>\n",
       "      <td>False</td>\n",
       "      <td>False</td>\n",
       "      <td>...</td>\n",
       "      <td>2</td>\n",
       "      <td>2</td>\n",
       "      <td>0.000000</td>\n",
       "      <td>0.285714</td>\n",
       "      <td>0.142857</td>\n",
       "      <td>1</td>\n",
       "      <td>0</td>\n",
       "      <td>False</td>\n",
       "      <td>False</td>\n",
       "      <td>False</td>\n",
       "    </tr>\n",
       "    <tr>\n",
       "      <th>8752401</th>\n",
       "      <td>nHUW7&lt;qvR=GwS9P</td>\n",
       "      <td>2</td>\n",
       "      <td>True</td>\n",
       "      <td>False</td>\n",
       "      <td>True</td>\n",
       "      <td>False</td>\n",
       "      <td>False</td>\n",
       "      <td>False</td>\n",
       "      <td>False</td>\n",
       "      <td>False</td>\n",
       "      <td>...</td>\n",
       "      <td>3</td>\n",
       "      <td>1</td>\n",
       "      <td>0.133333</td>\n",
       "      <td>0.066667</td>\n",
       "      <td>0.133333</td>\n",
       "      <td>0</td>\n",
       "      <td>0</td>\n",
       "      <td>False</td>\n",
       "      <td>False</td>\n",
       "      <td>False</td>\n",
       "    </tr>\n",
       "  </tbody>\n",
       "</table>\n",
       "<p>10 rows × 42 columns</p>\n",
       "</div>"
      ]
     },
     "execution_count": 20,
     "metadata": {},
     "output_type": "execute_result"
    }
   ],
   "execution_count": 20
  }
 ],
 "metadata": {
  "kernelspec": {
   "display_name": "Python 3",
   "language": "python",
   "name": "python3"
  },
  "language_info": {
   "codemirror_mode": {
    "name": "ipython",
    "version": 2
   },
   "file_extension": ".py",
   "mimetype": "text/x-python",
   "name": "python",
   "nbconvert_exporter": "python",
   "pygments_lexer": "ipython2",
   "version": "2.7.6"
  }
 },
 "nbformat": 4,
 "nbformat_minor": 5
}
